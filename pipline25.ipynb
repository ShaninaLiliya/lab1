{
 "cells": [
  {
   "cell_type": "code",
   "execution_count": null,
   "id": "b6d2a40b-b86c-4ce3-b15a-563ddbd68ba3",
   "metadata": {},
   "outputs": [],
   "source": [
    "print(\"Сreate a pipline\")"
   ]
  },
  {
   "cell_type": "code",
   "execution_count": 1,
   "id": "67e813ef-ab9a-424f-a425-524b1efdf249",
   "metadata": {},
   "outputs": [
    {
     "name": "stdout",
     "output_type": "stream",
     "text": [
      "Сreate a pipline3\n"
     ]
    }
   ],
   "source": [
    "print(\"Сreate a pipline3\")"
   ]
  },
  {
   "cell_type": "code",
   "execution_count": 2,
   "id": "392b4552-3552-4bd2-979f-751077825a27",
   "metadata": {},
   "outputs": [
    {
     "name": "stdout",
     "output_type": "stream",
     "text": [
      "Сreate a pipline3\n"
     ]
    }
   ],
   "source": [
    "print(\"Сreate a pipline3\")"
   ]
  },
  {
   "cell_type": "code",
   "execution_count": null,
   "id": "aecd837e-99f7-4e89-87bb-da1d0fa22bd3",
   "metadata": {},
   "outputs": [],
   "source": []
  }
 ],
 "metadata": {
  "kernelspec": {
   "display_name": "Python 3 (ipykernel)",
   "language": "python",
   "name": "python3"
  },
  "language_info": {
   "codemirror_mode": {
    "name": "ipython",
    "version": 3
   },
   "file_extension": ".py",
   "mimetype": "text/x-python",
   "name": "python",
   "nbconvert_exporter": "python",
   "pygments_lexer": "ipython3",
   "version": "3.10.5"
  }
 },
 "nbformat": 4,
 "nbformat_minor": 5
}
